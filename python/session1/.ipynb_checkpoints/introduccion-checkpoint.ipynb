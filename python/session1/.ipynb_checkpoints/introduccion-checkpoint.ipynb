{
 "cells": [
  {
   "cell_type": "code",
   "execution_count": 4,
   "id": "c179ce08-614b-44f7-97b1-281dd1f9487a",
   "metadata": {},
   "outputs": [
    {
     "name": "stdout",
     "output_type": "stream",
     "text": [
      "HOLA MUNDO\n"
     ]
    }
   ],
   "source": [
    "# Identacion\n",
    "print(\"HOLA MUNDO\")"
   ]
  },
  {
   "cell_type": "code",
   "execution_count": 12,
   "id": "0a4966ed-3fcf-4eba-b51f-4d0ee15f62b8",
   "metadata": {},
   "outputs": [
    {
     "name": "stdout",
     "output_type": "stream",
     "text": [
      "verdadero\n"
     ]
    }
   ],
   "source": [
    "x = 5\n",
    "if x == 5:\n",
    "    print(\"verdadero\")\n",
    "else:\n",
    "    print(\"falso\")\n"
   ]
  },
  {
   "cell_type": "code",
   "execution_count": 13,
   "id": "946f5c83-e60d-4889-8608-c54134c350b7",
   "metadata": {},
   "outputs": [
    {
     "name": "stdout",
     "output_type": "stream",
     "text": [
      "1\n"
     ]
    }
   ],
   "source": [
    "# Este es un comentariont\n",
    "print(1)"
   ]
  },
  {
   "cell_type": "code",
   "execution_count": 14,
   "id": "47df6a9f-e933-4a8b-be04-1b6e978014bd",
   "metadata": {},
   "outputs": [],
   "source": [
    "#variables\n",
    "a = 1\n",
    "b = \"Datapath\"\n",
    "c = 2.5"
   ]
  },
  {
   "cell_type": "code",
   "execution_count": 15,
   "id": "5fd609dc-15b4-493b-b328-d1e5284151f9",
   "metadata": {},
   "outputs": [
    {
     "name": "stdout",
     "output_type": "stream",
     "text": [
      "<class 'int'>\n"
     ]
    }
   ],
   "source": [
    "print(type(a))"
   ]
  },
  {
   "cell_type": "code",
   "execution_count": 16,
   "id": "cd86fe9d-cea1-4a8a-85c1-be48ebd6cf48",
   "metadata": {},
   "outputs": [
    {
     "name": "stdout",
     "output_type": "stream",
     "text": [
      "<class 'str'>\n"
     ]
    }
   ],
   "source": [
    "print(type(b))"
   ]
  },
  {
   "cell_type": "code",
   "execution_count": 17,
   "id": "4fb6a3c7-c59c-4b36-ba85-243946495ab0",
   "metadata": {},
   "outputs": [
    {
     "name": "stdout",
     "output_type": "stream",
     "text": [
      "<class 'float'>\n"
     ]
    }
   ],
   "source": [
    "print(type(c))"
   ]
  },
  {
   "cell_type": "code",
   "execution_count": 18,
   "id": "85e24ad5-d73e-4192-94e4-e8be6ae98886",
   "metadata": {},
   "outputs": [],
   "source": [
    "x,y,z = \"lunes\", \"martes\", \"miercoles\""
   ]
  },
  {
   "cell_type": "code",
   "execution_count": 19,
   "id": "661bef9a-a11d-4d71-954e-ecc17adbada3",
   "metadata": {},
   "outputs": [
    {
     "name": "stdout",
     "output_type": "stream",
     "text": [
      "lunes\n"
     ]
    }
   ],
   "source": [
    "print(x)"
   ]
  },
  {
   "cell_type": "code",
   "execution_count": 24,
   "id": "46dc2ce9-c55a-4e41-8a3d-ca67ab73de5f",
   "metadata": {},
   "outputs": [
    {
     "name": "stdout",
     "output_type": "stream",
     "text": [
      "lunes\n"
     ]
    }
   ],
   "source": [
    "# Tipos de datos\n",
    "#STRING\n",
    "x = 'lunes'\n",
    "print(x)"
   ]
  },
  {
   "cell_type": "code",
   "execution_count": 21,
   "id": "933f275e-a291-4690-ae30-148d04f7c8e9",
   "metadata": {},
   "outputs": [
    {
     "name": "stdout",
     "output_type": "stream",
     "text": [
      "l\n"
     ]
    }
   ],
   "source": [
    "print(x[0])"
   ]
  },
  {
   "cell_type": "code",
   "execution_count": 22,
   "id": "5b918f90-a761-4caa-8a81-5fe7bd11aef5",
   "metadata": {},
   "outputs": [
    {
     "name": "stdout",
     "output_type": "stream",
     "text": [
      "u\n"
     ]
    }
   ],
   "source": [
    "print(x[1])"
   ]
  },
  {
   "cell_type": "code",
   "execution_count": 23,
   "id": "c88bef2d-8e41-45a9-8781-72e9b270ff96",
   "metadata": {},
   "outputs": [
    {
     "name": "stdout",
     "output_type": "stream",
     "text": [
      "lun\n"
     ]
    }
   ],
   "source": [
    "print(x[0:3])"
   ]
  },
  {
   "cell_type": "code",
   "execution_count": 25,
   "id": "f910d3aa-44bf-410c-9fa5-e94cbf1bb976",
   "metadata": {},
   "outputs": [],
   "source": [
    "#NUMERICOS"
   ]
  },
  {
   "cell_type": "code",
   "execution_count": 29,
   "id": "0850206c-b1c1-4cfc-92f7-db6f52657787",
   "metadata": {},
   "outputs": [
    {
     "name": "stdout",
     "output_type": "stream",
     "text": [
      "<class 'int'>\n",
      "<class 'float'>\n",
      "<class 'complex'>\n"
     ]
    }
   ],
   "source": [
    "a = 10\n",
    "b = 10.2\n",
    "c = 3.14j\n",
    "print(type(a))\n",
    "print(type(b))\n",
    "print(type(c))"
   ]
  },
  {
   "cell_type": "code",
   "execution_count": null,
   "id": "05916fac-d186-4eee-bbf0-49c060aaf195",
   "metadata": {},
   "outputs": [],
   "source": [
    "#LISTAS"
   ]
  },
  {
   "cell_type": "code",
   "execution_count": 31,
   "id": "3c5af6eb-24da-4ebe-b554-3bbea27cb2bd",
   "metadata": {},
   "outputs": [
    {
     "name": "stdout",
     "output_type": "stream",
     "text": [
      "[]\n"
     ]
    }
   ],
   "source": [
    "lista = [] #lista vacia\n",
    "print(lista)"
   ]
  },
  {
   "cell_type": "code",
   "execution_count": 36,
   "id": "6717e6bb-6c9b-467a-8d11-65ce6daf1e27",
   "metadata": {},
   "outputs": [
    {
     "name": "stdout",
     "output_type": "stream",
     "text": [
      "[1, 2, 3, 4, 5]\n",
      "<class 'list'>\n"
     ]
    }
   ],
   "source": [
    "listaEnteros = [1,2,3,4,5]\n",
    "print(listaEnteros)\n",
    "print(type(listaMixta))"
   ]
  },
  {
   "cell_type": "code",
   "execution_count": 33,
   "id": "f059ceba-94e0-4780-9986-f2f293894f5e",
   "metadata": {},
   "outputs": [
    {
     "name": "stdout",
     "output_type": "stream",
     "text": [
      "[1, 'lunes', 2, 3, 4, 5]\n"
     ]
    }
   ],
   "source": [
    "listaMixta = [1,\"lunes\",2,3,4,5]\n",
    "print(listaMixta)"
   ]
  },
  {
   "cell_type": "code",
   "execution_count": 34,
   "id": "9a6b6915-d844-4e97-b364-b7bf5d4c8531",
   "metadata": {},
   "outputs": [
    {
     "name": "stdout",
     "output_type": "stream",
     "text": [
      "[1, 'lunes', 2, [3, 4], 5]\n"
     ]
    }
   ],
   "source": [
    "listaMixta = [1,\"lunes\",2,[3,4],5]\n",
    "print(listaMixta)"
   ]
  },
  {
   "cell_type": "code",
   "execution_count": 35,
   "id": "f54da194-f197-447c-a5d8-255137df72c0",
   "metadata": {},
   "outputs": [
    {
     "name": "stdout",
     "output_type": "stream",
     "text": [
      "<class 'list'>\n"
     ]
    }
   ],
   "source": [
    "print(type(listaMixta))"
   ]
  },
  {
   "cell_type": "code",
   "execution_count": 41,
   "id": "45fb39c7-1059-4915-8172-8b04621d268a",
   "metadata": {},
   "outputs": [
    {
     "name": "stdout",
     "output_type": "stream",
     "text": [
      "['a', 'b', 'c', 'd', 'e', 'f']\n",
      "a\n",
      "d\n",
      "4\n"
     ]
    }
   ],
   "source": [
    "lista1 = ['a', 'b', 'c', 'd', 'e', 'f']\n",
    "print(lista1)\n",
    "print(lista1[0])\n",
    "print(lista1[3])\n",
    "print(listaMixta[3][1])"
   ]
  },
  {
   "cell_type": "code",
   "execution_count": 45,
   "id": "24a9576b-ef89-4b07-b0e5-66b3609f122d",
   "metadata": {},
   "outputs": [
    {
     "name": "stdout",
     "output_type": "stream",
     "text": [
      "['a', 'b', 'c']\n"
     ]
    }
   ],
   "source": [
    "print(lista1[0:3])"
   ]
  },
  {
   "cell_type": "code",
   "execution_count": 46,
   "id": "8fc95af9-ca0c-4ad0-b8d8-73c950c67ef4",
   "metadata": {},
   "outputs": [
    {
     "name": "stdout",
     "output_type": "stream",
     "text": [
      "['a', 'b', 'c', 'd', 'e', 'f']\n"
     ]
    }
   ],
   "source": [
    "print(lista1[:])"
   ]
  },
  {
   "cell_type": "code",
   "execution_count": 48,
   "id": "362aa695-82b8-4706-bbcf-0675226a7ad2",
   "metadata": {},
   "outputs": [
    {
     "name": "stdout",
     "output_type": "stream",
     "text": [
      "['lunes', 'b', 'c', 'd', 'e', 'f']\n"
     ]
    }
   ],
   "source": [
    "lista1[0] = x\n",
    "print(lista1)"
   ]
  },
  {
   "cell_type": "code",
   "execution_count": 50,
   "id": "a42ebdd3-0ff2-443b-b72d-3252df0035a7",
   "metadata": {},
   "outputs": [
    {
     "name": "stdout",
     "output_type": "stream",
     "text": [
      "['lunes', 'b', 'c', 'd', 'e', 'f', 'martes']\n"
     ]
    }
   ],
   "source": [
    "lista1.append('martes')\n",
    "print(lista1)"
   ]
  },
  {
   "cell_type": "code",
   "execution_count": 59,
   "id": "8d1a2e71-bd69-423d-8624-a71a4cc4b515",
   "metadata": {},
   "outputs": [
    {
     "name": "stdout",
     "output_type": "stream",
     "text": [
      "['lunes', 'b', 'c', 'd', 'e', 'f', 'martes', 2, 5, 7, 2, 5, 7, 2, 5, 7, 3, 3, 3, 2, 5, 7, [3, 3, 3]]\n"
     ]
    }
   ],
   "source": [
    "lista1.extend([2,5,7])\n",
    "lista1.extend([[3,3,3]])\n",
    "print(lista1)"
   ]
  },
  {
   "cell_type": "code",
   "execution_count": 60,
   "id": "1dc28827-09db-4a4d-be19-6b7b2aec282a",
   "metadata": {},
   "outputs": [
    {
     "name": "stdout",
     "output_type": "stream",
     "text": [
      "lunes\n",
      "b\n",
      "c\n",
      "d\n",
      "e\n",
      "f\n",
      "martes\n",
      "2\n",
      "5\n",
      "7\n",
      "2\n",
      "5\n",
      "7\n",
      "2\n",
      "5\n",
      "7\n",
      "3\n",
      "3\n",
      "3\n",
      "2\n",
      "5\n",
      "7\n",
      "[3, 3, 3]\n"
     ]
    }
   ],
   "source": [
    "for var in lista1:\n",
    "    print(var)"
   ]
  },
  {
   "cell_type": "code",
   "execution_count": 61,
   "id": "e011f1e6-ca16-4dfb-af7f-1ae116bec594",
   "metadata": {},
   "outputs": [],
   "source": [
    "#Tuplas"
   ]
  },
  {
   "cell_type": "code",
   "execution_count": 63,
   "id": "2453fdf1-656a-440e-b297-044ffbd7bbe5",
   "metadata": {},
   "outputs": [
    {
     "name": "stdout",
     "output_type": "stream",
     "text": [
      "()\n",
      "(1, 2, 3)\n",
      "(1, 2.3, 'martes')\n",
      "(1, 2, 'Martes', (3, 4))\n"
     ]
    }
   ],
   "source": [
    "tupla = () #tupla vacia\n",
    "tupla1 = (1,2,3) #tupla int\n",
    "tupla2 = (1,2.3, 'martes') #tupla mixta\n",
    "tupla3 = (1, 2, 'Martes', (3,4))\n",
    "print(tupla)\n",
    "print(tupla1)\n",
    "print(tupla2)\n",
    "print(tupla3)"
   ]
  },
  {
   "cell_type": "code",
   "execution_count": 64,
   "id": "e1025403-2b45-4a3c-97a0-5140901260d7",
   "metadata": {},
   "outputs": [
    {
     "name": "stdout",
     "output_type": "stream",
     "text": [
      "<class 'str'>\n"
     ]
    }
   ],
   "source": [
    "tupla4 = (\"lunes\")\n",
    "print(type(tupla4))"
   ]
  },
  {
   "cell_type": "code",
   "execution_count": 65,
   "id": "2d7e3e85-8b8d-461c-8f19-fde47b4daf89",
   "metadata": {},
   "outputs": [
    {
     "name": "stdout",
     "output_type": "stream",
     "text": [
      "<class 'tuple'>\n"
     ]
    }
   ],
   "source": [
    "tupla4 = (\"lunes\",)\n",
    "print(type(tupla4))"
   ]
  },
  {
   "cell_type": "code",
   "execution_count": 66,
   "id": "6b1c0849-4129-47b4-ab6e-cded7951c47d",
   "metadata": {},
   "outputs": [
    {
     "name": "stdout",
     "output_type": "stream",
     "text": [
      "<class 'tuple'>\n"
     ]
    }
   ],
   "source": [
    "tupla4 = \"lunes\", \"martes\" #los parentesis son opcionales\n",
    "print(type(tupla4))"
   ]
  },
  {
   "cell_type": "code",
   "execution_count": 67,
   "id": "3ab99106-5c92-4b9b-81d7-37afb5659e48",
   "metadata": {},
   "outputs": [],
   "source": [
    "#DICCIONARIOS"
   ]
  },
  {
   "cell_type": "code",
   "execution_count": 68,
   "id": "037e76cc-fbe3-4713-995a-f682221d64da",
   "metadata": {},
   "outputs": [
    {
     "name": "stdout",
     "output_type": "stream",
     "text": [
      "{1: 'lunes', 2: 'martes', 3: 'miercoles'}\n"
     ]
    }
   ],
   "source": [
    "diccionario = { 1: 'lunes', 2: 'martes', 3: 'miercoles'}\n",
    "print(diccionario)"
   ]
  },
  {
   "cell_type": "code",
   "execution_count": 71,
   "id": "2d4b10da-402c-487c-bbd8-dab92a6025bd",
   "metadata": {},
   "outputs": [
    {
     "name": "stdout",
     "output_type": "stream",
     "text": [
      "{'nombre': 'lunes', 'edad': 10, 3: 'miercoles'}\n",
      "10\n"
     ]
    }
   ],
   "source": [
    "diccionario = { 'nombre': 'lunes', 'edad': 10, 3: 'miercoles'}\n",
    "print(diccionario)\n",
    "print(diccionario.get('edad'))"
   ]
  },
  {
   "cell_type": "code",
   "execution_count": 72,
   "id": "d9129678-539a-4054-b11f-9709edb14ba8",
   "metadata": {},
   "outputs": [
    {
     "name": "stdout",
     "output_type": "stream",
     "text": [
      "{'nombre': 'lucho', 'edad': 10, 3: 'miercoles'}\n"
     ]
    }
   ],
   "source": [
    "diccionario['nombre'] = 'lucho'\n",
    "print(diccionario)"
   ]
  },
  {
   "cell_type": "code",
   "execution_count": null,
   "id": "4cfb4d5c-5142-429e-b8f9-adc13ca59f34",
   "metadata": {},
   "outputs": [],
   "source": []
  }
 ],
 "metadata": {
  "kernelspec": {
   "display_name": "Python 3 (ipykernel)",
   "language": "python",
   "name": "python3"
  },
  "language_info": {
   "codemirror_mode": {
    "name": "ipython",
    "version": 3
   },
   "file_extension": ".py",
   "mimetype": "text/x-python",
   "name": "python",
   "nbconvert_exporter": "python",
   "pygments_lexer": "ipython3",
   "version": "3.9.19"
  }
 },
 "nbformat": 4,
 "nbformat_minor": 5
}
